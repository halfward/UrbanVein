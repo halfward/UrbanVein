{
 "cells": [
  {
   "cell_type": "code",
   "execution_count": 1,
   "metadata": {},
   "outputs": [],
   "source": [
    "import geopandas as gpd"
   ]
  },
  {
   "cell_type": "code",
   "execution_count": 2,
   "metadata": {},
   "outputs": [
    {
     "name": "stdout",
     "output_type": "stream",
     "text": [
      "GeoJSON file has been split into two parts.\n"
     ]
    }
   ],
   "source": [
    "# Load the GeoJSON file\n",
    "geojson_file = r\"C:\\Users\\haole\\Documents\\GitHub\\UrbanVein\\data\\nycBinnedCentroidsMaterialWgs84.geojson\"\n",
    "gdf = gpd.read_file(geojson_file)\n",
    "\n",
    "# Split the GeoDataFrame in half (you can also use other criteria, like spatial division)\n",
    "mid_index = len(gdf) // 2\n",
    "gdf_part1 = gdf.iloc[:mid_index]\n",
    "gdf_part2 = gdf.iloc[mid_index:]\n",
    "\n",
    "# Save the two parts as new GeoJSON files\n",
    "output_file1 = r\"C:\\Users\\haole\\Documents\\GitHub\\UrbanVein\\data\\nycBinnedCentroidsPart1.geojson\"\n",
    "output_file2 = r\"C:\\Users\\haole\\Documents\\GitHub\\UrbanVein\\data\\nycBinnedCentroidsPart2.geojson\"\n",
    "\n",
    "gdf_part1.to_file(output_file1, driver=\"GeoJSON\")\n",
    "gdf_part2.to_file(output_file2, driver=\"GeoJSON\")\n",
    "\n",
    "print(\"GeoJSON file has been split into two parts.\")"
   ]
  }
 ],
 "metadata": {
  "kernelspec": {
   "display_name": "MapSys",
   "language": "python",
   "name": "python3"
  },
  "language_info": {
   "codemirror_mode": {
    "name": "ipython",
    "version": 3
   },
   "file_extension": ".py",
   "mimetype": "text/x-python",
   "name": "python",
   "nbconvert_exporter": "python",
   "pygments_lexer": "ipython3",
   "version": "3.10.14"
  }
 },
 "nbformat": 4,
 "nbformat_minor": 2
}
